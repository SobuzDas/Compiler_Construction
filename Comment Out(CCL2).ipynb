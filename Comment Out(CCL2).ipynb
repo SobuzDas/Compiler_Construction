{
  "nbformat": 4,
  "nbformat_minor": 0,
  "metadata": {
    "colab": {
      "provenance": [],
      "collapsed_sections": [],
      "authorship_tag": "ABX9TyPU3xwYdSvWOfOCLi1klI0/",
      "include_colab_link": true
    },
    "kernelspec": {
      "name": "python3",
      "display_name": "Python 3"
    },
    "language_info": {
      "name": "python"
    }
  },
  "cells": [
    {
      "cell_type": "markdown",
      "metadata": {
        "id": "view-in-github",
        "colab_type": "text"
      },
      "source": [
        "<a href=\"https://colab.research.google.com/github/SobuzDas/Compiler_Construction/blob/main/Comment%20Out(CCL2).ipynb\" target=\"_parent\"><img src=\"https://colab.research.google.com/assets/colab-badge.svg\" alt=\"Open In Colab\"/></a>"
      ]
    },
    {
      "cell_type": "markdown",
      "source": [
        "#Connecting Google Drive"
      ],
      "metadata": {
        "id": "chrA4BZ89Eka"
      }
    },
    {
      "cell_type": "code",
      "source": [
        "from google.colab import drive\n",
        "drive.mount('/content/drive')"
      ],
      "metadata": {
        "id": "SUM2Tfi69LD6",
        "colab": {
          "base_uri": "https://localhost:8080/"
        },
        "outputId": "6fd1d01b-96e8-45f4-87b4-a937ab1337df"
      },
      "execution_count": null,
      "outputs": [
        {
          "output_type": "stream",
          "name": "stdout",
          "text": [
            "Mounted at /content/drive\n"
          ]
        }
      ]
    },
    {
      "cell_type": "markdown",
      "source": [
        "#Read C file"
      ],
      "metadata": {
        "id": "B_LVamhyIVdV"
      }
    },
    {
      "cell_type": "code",
      "source": [
        "f = open('/content/drive/MyDrive/text file/input.c', 'r')\n",
        "file = f.read()\n",
        "print(file)"
      ],
      "metadata": {
        "colab": {
          "base_uri": "https://localhost:8080/"
        },
        "id": "qySLODjAO4c2",
        "outputId": "d918d22f-365f-4a0e-f022-f8443f9af0bc"
      },
      "execution_count": null,
      "outputs": [
        {
          "output_type": "stream",
          "name": "stdout",
          "text": [
            "#include<stdio.h>\n",
            "main(){\n",
            "    int a=10,b=10, c; //Two integer value declared\n",
            "\n",
            "    c= a+b;  /* C holds the result value */\n",
            "    printf(\"the sum is: %d\", c);  // This is a Result section\n",
            "\n",
            "    return 0;\n",
            "\n",
            "}\n",
            "\n"
          ]
        }
      ]
    },
    {
      "cell_type": "markdown",
      "source": [
        "#Remove Comments"
      ],
      "metadata": {
        "id": "QMUefRSPIY14"
      }
    },
    {
      "cell_type": "code",
      "source": [
        "import re\n",
        "def stripcomment(text):\n",
        "  return re.sub('//.*?\\n|/\\*.*?\\*/', '', text, flags=re.S)\n",
        "print(stripcomment(file))\n"
      ],
      "metadata": {
        "colab": {
          "base_uri": "https://localhost:8080/"
        },
        "id": "583EXwXoGpVA",
        "outputId": "f8c50085-bffb-44a5-c668-556fecbbb261"
      },
      "execution_count": null,
      "outputs": [
        {
          "output_type": "stream",
          "name": "stdout",
          "text": [
            "#include<stdio.h>\n",
            "main(){\n",
            "    int a=10,b=10, c; \n",
            "    c= a+b;  \n",
            "    printf(\"the sum is: %d\", c);  \n",
            "    return 0;\n",
            "\n",
            "}\n",
            "\n"
          ]
        }
      ]
    },
    {
      "cell_type": "markdown",
      "source": [
        "#Save File & Read Comment out"
      ],
      "metadata": {
        "id": "2G4GzGE09Ddk"
      }
    },
    {
      "cell_type": "code",
      "source": [
        "f = open('/content/drive/MyDrive/text file/output.c', 'a')\n",
        "f.write(stripcomment(file))\n",
        "\n",
        "f= open('/content/drive/MyDrive/text file/output.c', 'r')\n",
        "print(f.read())"
      ],
      "metadata": {
        "id": "k3HGilcFTC_n",
        "colab": {
          "base_uri": "https://localhost:8080/"
        },
        "outputId": "057a8ff0-4876-4555-dd2f-3c83a3d7b8c9"
      },
      "execution_count": null,
      "outputs": [
        {
          "output_type": "stream",
          "name": "stdout",
          "text": [
            "\n",
            "#include<stdio.h>\n",
            "main(){\n",
            "    int a=10,b=10, c; \n",
            "    c= a+b;  \n",
            "    printf(\"the sum is: %d\", c);  \n",
            "    return 0;\n",
            "\n",
            "}\n",
            "#include<stdio.h>\n",
            "main(){\n",
            "    int a=10,b=10, c; \n",
            "    c= a+b;  \n",
            "    printf(\"the sum is: %d\", c);  \n",
            "    return 0;\n",
            "\n",
            "}\n",
            "\n"
          ]
        }
      ]
    }
  ]
}
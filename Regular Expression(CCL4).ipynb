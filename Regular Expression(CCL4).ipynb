{
  "nbformat": 4,
  "nbformat_minor": 0,
  "metadata": {
    "colab": {
      "provenance": [],
      "authorship_tag": "ABX9TyNfIx+m5M4QewU02H8p1x46",
      "include_colab_link": true
    },
    "kernelspec": {
      "name": "python3",
      "display_name": "Python 3"
    },
    "language_info": {
      "name": "python"
    }
  },
  "cells": [
    {
      "cell_type": "markdown",
      "metadata": {
        "id": "view-in-github",
        "colab_type": "text"
      },
      "source": [
        "<a href=\"https://colab.research.google.com/github/SobuzDas/Compiler_Construction/blob/main/Regular%20Expression(CCL4).ipynb\" target=\"_parent\"><img src=\"https://colab.research.google.com/assets/colab-badge.svg\" alt=\"Open In Colab\"/></a>"
      ]
    },
    {
      "cell_type": "markdown",
      "source": [
        "#**Import** **RegEx**"
      ],
      "metadata": {
        "id": "G8N4Sz5MQOmu"
      }
    },
    {
      "cell_type": "code",
      "source": [
        "import re"
      ],
      "metadata": {
        "id": "tWCjLLZaQW9Y"
      },
      "execution_count": null,
      "outputs": []
    },
    {
      "cell_type": "markdown",
      "source": [
        "#**Import** **Pattern**"
      ],
      "metadata": {
        "id": "ILWoNBInQvY8"
      }
    },
    {
      "cell_type": "code",
      "source": [
        "pattern = input(\"Enter the pattern : \")\n",
        "text = input(\"Enter the string : \")\n"
      ],
      "metadata": {
        "colab": {
          "base_uri": "https://localhost:8080/"
        },
        "id": "OZnzNLPJQtck",
        "outputId": "70ad03e8-4a7a-42de-84da-dbf2a2f69471"
      },
      "execution_count": null,
      "outputs": [
        {
          "name": "stdout",
          "output_type": "stream",
          "text": [
            "Enter the pattern : ab*\n",
            "Enter the string : abbbbbbb\n"
          ]
        }
      ]
    },
    {
      "cell_type": "markdown",
      "source": [
        "#**Matching**"
      ],
      "metadata": {
        "id": "VvXir9l7Q89P"
      }
    },
    {
      "cell_type": "code",
      "source": [
        "match = re.fullmatch(pattern, text)\n",
        "if match:\n",
        "    print(match.group())\n",
        "    print('match')\n",
        "else:\n",
        "    print('No match')"
      ],
      "metadata": {
        "colab": {
          "base_uri": "https://localhost:8080/"
        },
        "id": "PxTPBXzORAsn",
        "outputId": "87d37d15-76c5-407f-9c43-6dd96ff7a430"
      },
      "execution_count": null,
      "outputs": [
        {
          "output_type": "stream",
          "name": "stdout",
          "text": [
            "abbbbbbb\n",
            "match\n"
          ]
        }
      ]
    }
  ]
}
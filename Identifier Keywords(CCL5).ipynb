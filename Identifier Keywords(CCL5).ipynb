{
  "nbformat": 4,
  "nbformat_minor": 0,
  "metadata": {
    "colab": {
      "provenance": [],
      "collapsed_sections": [],
      "authorship_tag": "ABX9TyMQynb7mD1bib0oY7ytLdWK",
      "include_colab_link": true
    },
    "kernelspec": {
      "name": "python3",
      "display_name": "Python 3"
    },
    "language_info": {
      "name": "python"
    }
  },
  "cells": [
    {
      "cell_type": "markdown",
      "metadata": {
        "id": "view-in-github",
        "colab_type": "text"
      },
      "source": [
        "<a href=\"https://colab.research.google.com/github/SobuzDas/Compiler_Construction/blob/main/Identifier%20Keywords(CCL5).ipynb\" target=\"_parent\"><img src=\"https://colab.research.google.com/assets/colab-badge.svg\" alt=\"Open In Colab\"/></a>"
      ]
    },
    {
      "cell_type": "markdown",
      "source": [
        "#**Importing**"
      ],
      "metadata": {
        "id": "h1CZecASd-zZ"
      }
    },
    {
      "cell_type": "code",
      "execution_count": null,
      "metadata": {
        "id": "A6R9PpUGWigC"
      },
      "outputs": [],
      "source": [
        "import re\n",
        "import pandas as pd\n",
        "from collections import Counter"
      ]
    },
    {
      "cell_type": "markdown",
      "source": [
        "#**Connect** **Drive**"
      ],
      "metadata": {
        "id": "RSB6x-KxfNCw"
      }
    },
    {
      "cell_type": "code",
      "source": [
        "from google.colab import drive\n",
        "drive.mount('/content/drive')"
      ],
      "metadata": {
        "colab": {
          "base_uri": "https://localhost:8080/"
        },
        "id": "hHh7ra2lfRC3",
        "outputId": "39e254bc-9f34-4ffa-d937-1d81e955a1d2"
      },
      "execution_count": null,
      "outputs": [
        {
          "output_type": "stream",
          "name": "stdout",
          "text": [
            "Drive already mounted at /content/drive; to attempt to forcibly remount, call drive.mount(\"/content/drive\", force_remount=True).\n"
          ]
        }
      ]
    },
    {
      "cell_type": "markdown",
      "source": [
        "#**file** **Read**"
      ],
      "metadata": {
        "id": "BidS4m87hldi"
      }
    },
    {
      "cell_type": "code",
      "source": [
        "f = open('/content/drive/MyDrive/ccl/inputt.c', 'r')\n",
        "file = f.read()\n",
        "print(file)"
      ],
      "metadata": {
        "colab": {
          "base_uri": "https://localhost:8080/"
        },
        "id": "JJYnFp6TheeL",
        "outputId": "694b75d7-9c90-4c19-f509-49a245f3c727"
      },
      "execution_count": null,
      "outputs": [
        {
          "output_type": "stream",
          "name": "stdout",
          "text": [
            "#include <stdio.h>\n",
            "/* function return type is void and it doesn't have parameters*/\n",
            "int main(){\n",
            "    printf(\"Hi\\n\");\n",
            "    printf(\"This is Compiler Construction Laboratory\\n\");\n",
            "    printf(\"Welcome!\\n\");\n",
            "    /* There is no return statement inside this function, since its\n",
            "     * return type is void\n",
            "     */\n",
            "     int a= 1, b=2;\n",
            "     int c= a+b;\n",
            "     printf(\"%d\", c);\n",
            "\n",
            "\n",
            "     return 0;\n",
            "}\n",
            "\n"
          ]
        }
      ]
    },
    {
      "cell_type": "markdown",
      "source": [
        "#**Removing** **Comment**"
      ],
      "metadata": {
        "id": "2duCEtsWh2hs"
      }
    },
    {
      "cell_type": "code",
      "source": [
        "def stripcomments(code):\n",
        "    return re.sub('//.*?\\n|/\\*.*?\\*/', '', code, flags=re.S)"
      ],
      "metadata": {
        "id": "iqDwfmpzh6KP"
      },
      "execution_count": null,
      "outputs": []
    },
    {
      "cell_type": "code",
      "source": [
        "z = stripcomments(file)\n",
        "print(z)"
      ],
      "metadata": {
        "colab": {
          "base_uri": "https://localhost:8080/"
        },
        "id": "rT_UzqWPh_n8",
        "outputId": "a76e24b4-7e82-4974-aadd-c05979cf0da0"
      },
      "execution_count": null,
      "outputs": [
        {
          "output_type": "stream",
          "name": "stdout",
          "text": [
            "#include <stdio.h>\n",
            "\n",
            "int main(){\n",
            "    printf(\"Hi\\n\");\n",
            "    printf(\"This is Compiler Construction Laboratory\\n\");\n",
            "    printf(\"Welcome!\\n\");\n",
            "    \n",
            "     int a= 1, b=2;\n",
            "     int c= a+b;\n",
            "     printf(\"%d\", c);\n",
            "\n",
            "\n",
            "     return 0;\n",
            "}\n",
            "\n"
          ]
        }
      ]
    },
    {
      "cell_type": "code",
      "source": [
        "f = open('/content/drive/MyDrive/ccl/output.c', 'w')\n",
        "f.write(z)"
      ],
      "metadata": {
        "id": "iwdnuEB5ic8Z",
        "colab": {
          "base_uri": "https://localhost:8080/"
        },
        "outputId": "9c1f0543-3ea2-4a67-bb31-5eb567a44a70"
      },
      "execution_count": null,
      "outputs": [
        {
          "output_type": "execute_result",
          "data": {
            "text/plain": [
              "219"
            ]
          },
          "metadata": {},
          "execution_count": 37
        }
      ]
    },
    {
      "cell_type": "markdown",
      "source": [
        "#**Counting Keyword**"
      ],
      "metadata": {
        "id": "m1ObQ8ylltjE"
      }
    },
    {
      "cell_type": "code",
      "source": [
        "def Convert(lst):\n",
        "    res_dct = {lst[i]: 0 for i in range(0, len(lst))}\n",
        "    return res_dct\n",
        "keyword = ['break','case','char','const','countinue','deafult','do','int','else','enum','extern','float','for','goto','if','long','register','return','short','signed','sizeof','static','switch','typedef','union','unsigned','void','volatile','while','struct']\n",
        "keyword = Convert(keyword)\n",
        "# print(keyword)\n",
        "f = open('/content/drive/MyDrive/ccl/output.c', 'r+')\n",
        "contents = f.read()\n",
        "splitCode = contents.split() #split program in word based on space\n",
        "length = len(splitCode)      # count the number of word in program\n",
        "for i in range(0,length):\n",
        "  # print(splitCode[i])\n",
        "  if splitCode[i] in keyword:\n",
        "      keyword[splitCode[i]] += 1\n",
        "      # print(splitCode[i])\n",
        " \n",
        "# print(keyword)\n",
        "totalkeyword = 0\n",
        "for k, v in keyword.items():\n",
        "  if v>0:\n",
        "    totalkeyword +=1\n",
        "    print(k, ' =  ',v)\n",
        "    \n",
        "print('Total keyword :',totalkeyword)"
      ],
      "metadata": {
        "id": "hVFPNsY_lxUk",
        "colab": {
          "base_uri": "https://localhost:8080/"
        },
        "outputId": "bf46fb72-4b83-4d0e-9de0-b2d290d999be"
      },
      "execution_count": null,
      "outputs": [
        {
          "output_type": "stream",
          "name": "stdout",
          "text": [
            "int  =   3\n",
            "return  =   1\n",
            "Total keyword : 2\n"
          ]
        }
      ]
    },
    {
      "cell_type": "markdown",
      "source": [
        "#**Identifier keywords**"
      ],
      "metadata": {
        "id": "Iv4kSLIWTknt"
      }
    },
    {
      "cell_type": "code",
      "source": [
        "import nltk\n",
        "nltk.download('punkt')\n",
        "\n",
        "f = open('/content/drive/MyDrive/ccl/inputt.c', 'r')\n",
        "program = f.read()\n",
        "count = 0\n",
        "\n",
        "Identifiers_Output = []\n",
        "Keywords_Output = []\n",
        "Symbols_Output = []\n",
        "Operators_Output = []\n",
        "Numerals_Output = []\n",
        "Headers_Output = []\n",
        "\n",
        "def remove_Spaces(program):\n",
        "    scanned_Program = []\n",
        "    for line in prog:\n",
        "        if (line.strip() != ''):\n",
        "            scanned_Program.append(line.strip())\n",
        "    return scanned_Program\n",
        "\n",
        "\n",
        "def remove_Comments(program):\n",
        "    program_Multi_Comments_Removed = re.sub(\"/\\*[^*]*\\*+(?:[^/*][^*]*\\*+)*/\", \"\", program)\n",
        "    program_Single_Comments_Removed = re.sub(\"//.*\", \"\", program_Multi_Comments_Removed)\n",
        "    program_Comments_removed = program_Single_Comments_Removed\n",
        "    return program_Comments_removed\n",
        "\n",
        "\n",
        "\n",
        "RE_Keywords = \"auto|break|case|char|const|continue|default|do|double|else|enum|extern|float|for|goto|if|int|long|register|return|short|signed|sizeof|static|struct|switch|typedef|union|unsigned|void|volatile|while|string|class|struc|include\"\n",
        "RE_Operators = \"(\\++)|(-)|(=)|(\\*)|(/)|(%)|(--)|(<=)|(>=)\"\n",
        "RE_Numerals = \"^(\\d+)$\"\n",
        "RE_Special_Characters = \"[\\[@&~!#$\\^\\|{}\\]:;<>?,\\.']|\\(\\)|\\(|\\)|{}|\\[\\]|\\\"\"\n",
        "RE_Identifiers = \"^[a-zA-Z_]+[a-zA-Z0-9_]*\"\n",
        "RE_Headers = \"([a-zA-Z]+\\.[h])\"\n",
        "\n",
        "\n",
        "program_Comments_removed = remove_Comments(program)\n",
        "prog = program_Comments_removed.split('\\n')\n",
        "\n",
        "\n",
        "scanned_Prog = remove_Spaces(prog)\n",
        "\n",
        "scanned_Program = '\\n'.join([str(elem) for elem in scanned_Prog])\n",
        "\n",
        "\n",
        "\n",
        "scanned_Program_lines = scanned_Program.split('\\n')\n",
        "match_counter = 0\n",
        "\n",
        "\n",
        "Source_Code=[]\n",
        "for line in scanned_Program_lines:\n",
        "        Source_Code.append(line)\n",
        "\n",
        "\n",
        "display_counter = 0\n",
        "for line in Source_Code:\n",
        "    count = count + 1\n",
        "    if(line.startswith(\"#include<stdio.h>\")):\n",
        "        tokens = nltk.word_tokenize(line)\n",
        "    else:\n",
        "        tokens = nltk.wordpunct_tokenize(line)\n",
        "    for token in tokens:\n",
        "        if(re.findall(RE_Keywords, token)):\n",
        "            Keywords_Output.append(token)\n",
        "        elif (re.findall(RE_Identifiers, token)):\n",
        "            Identifiers_Output.append(token)\n",
        "\n",
        "\n",
        "#print(\"There Are \",len(Keywords_Output),\"Keywords: \",Keywords_Output)\n",
        "#print(\"\\n\")\n",
        "print(\"There Are \",len(Identifiers_Output),\"Identifiers: \",Identifiers_Output)\n"
      ],
      "metadata": {
        "colab": {
          "base_uri": "https://localhost:8080/"
        },
        "id": "ptOZvxzbTs7Q",
        "outputId": "cb1f39e9-75cf-484c-a021-15ba07280012"
      },
      "execution_count": null,
      "outputs": [
        {
          "output_type": "stream",
          "name": "stderr",
          "text": [
            "[nltk_data] Downloading package punkt to /root/nltk_data...\n",
            "[nltk_data]   Unzipping tokenizers/punkt.zip.\n"
          ]
        },
        {
          "output_type": "stream",
          "name": "stdout",
          "text": [
            "There Are  19 Identifiers:  ['stdio', 'h', 'main', 'Hi', 'n', 'This', 'is', 'Compiler', 'Laboratory', 'n', 'Welcome', 'n', 'a', 'b', 'c', 'a', 'b', 'd', 'c']\n"
          ]
        }
      ]
    }
  ]
}
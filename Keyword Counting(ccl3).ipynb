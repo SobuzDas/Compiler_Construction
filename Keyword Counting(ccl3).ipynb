{
  "nbformat": 4,
  "nbformat_minor": 0,
  "metadata": {
    "colab": {
      "provenance": [],
      "collapsed_sections": [],
      "authorship_tag": "ABX9TyOYfTTcfkKSgbDsmmfGWpKz",
      "include_colab_link": true
    },
    "kernelspec": {
      "name": "python3",
      "display_name": "Python 3"
    },
    "language_info": {
      "name": "python"
    }
  },
  "cells": [
    {
      "cell_type": "markdown",
      "metadata": {
        "id": "view-in-github",
        "colab_type": "text"
      },
      "source": [
        "<a href=\"https://colab.research.google.com/github/SobuzDas/Compiler_Construction/blob/main/Keyword%20Counting(ccl3).ipynb\" target=\"_parent\"><img src=\"https://colab.research.google.com/assets/colab-badge.svg\" alt=\"Open In Colab\"/></a>"
      ]
    },
    {
      "cell_type": "markdown",
      "source": [
        "#Connect drive"
      ],
      "metadata": {
        "id": "TTVDsJ5sS-dy"
      }
    },
    {
      "cell_type": "code",
      "source": [
        "from google.colab import drive\n",
        "drive.mount('/content/drive')"
      ],
      "metadata": {
        "colab": {
          "base_uri": "https://localhost:8080/"
        },
        "id": "YOrm9gY6TAi-",
        "outputId": "5348b585-ffed-4d58-c965-3171521c4739"
      },
      "execution_count": null,
      "outputs": [
        {
          "output_type": "stream",
          "name": "stdout",
          "text": [
            "Drive already mounted at /content/drive; to attempt to forcibly remount, call drive.mount(\"/content/drive\", force_remount=True).\n"
          ]
        }
      ]
    },
    {
      "cell_type": "markdown",
      "source": [
        "#Read file"
      ],
      "metadata": {
        "id": "2sXpPDtATmmW"
      }
    },
    {
      "cell_type": "code",
      "source": [
        "f = open('/content/drive/MyDrive/text file/input.c', 'r')\n",
        "file = f.read()\n",
        "print(file)"
      ],
      "metadata": {
        "colab": {
          "base_uri": "https://localhost:8080/"
        },
        "id": "k51Idg_uTqvV",
        "outputId": "a31a9ba8-e135-47a6-d727-60cc8b4fc48e"
      },
      "execution_count": null,
      "outputs": [
        {
          "output_type": "stream",
          "name": "stdout",
          "text": [
            "#include<stdio.h>\n",
            "main(){\n",
            "    int a=10,b=10, c; //Two integer value declared\n",
            "\n",
            "    c= a+b;  /* C holds the result value */\n",
            "    printf(\"the sum is: %d\", c);  // This is a Result section\n",
            "\n",
            "    return 0;\n",
            "\n",
            "}\n",
            "\n"
          ]
        }
      ]
    },
    {
      "cell_type": "markdown",
      "source": [
        "#Remove Comments"
      ],
      "metadata": {
        "id": "oc66qQChUGxB"
      }
    },
    {
      "cell_type": "code",
      "source": [
        "import re\n",
        "def stripcomment(text):\n",
        "  return re.sub('//.*?\\n|/\\*.*?\\*/', '', text, flags=re.S)\n",
        "print(stripcomment(file))"
      ],
      "metadata": {
        "colab": {
          "base_uri": "https://localhost:8080/"
        },
        "id": "-yFcuj2aUJP4",
        "outputId": "cfac1a13-91a8-4918-c4ae-219e25ff125a"
      },
      "execution_count": null,
      "outputs": [
        {
          "output_type": "stream",
          "name": "stdout",
          "text": [
            "#include<stdio.h>\n",
            "main(){\n",
            "    int a=10,b=10, c; \n",
            "    c= a+b;  \n",
            "    printf(\"the sum is: %d\", c);  \n",
            "    return 0;\n",
            "\n",
            "}\n",
            "\n"
          ]
        }
      ]
    },
    {
      "cell_type": "markdown",
      "source": [
        "#Comment out "
      ],
      "metadata": {
        "id": "hMcqzj0HUUTI"
      }
    },
    {
      "cell_type": "code",
      "source": [
        "f = open('/content/drive/MyDrive/text file/newoutput.c', 'a')\n",
        "f.write(stripcomment(file))\n",
        "\n",
        "f= open('/content/drive/MyDrive/text file/newoutput.c', 'r')\n",
        "print(f.read())"
      ],
      "metadata": {
        "colab": {
          "base_uri": "https://localhost:8080/"
        },
        "id": "OOJ7ZczDUWDM",
        "outputId": "999c4f35-8fbe-4f60-92ce-2b4cca55e949"
      },
      "execution_count": null,
      "outputs": [
        {
          "output_type": "stream",
          "name": "stdout",
          "text": [
            "\n",
            "#include<stdio.h>\n",
            "main(){\n",
            "    int a=10,b=10, c; \n",
            "    c= a+b;  \n",
            "    printf(\"the sum is: %d\", c);  \n",
            "    return 0;\n",
            "\n",
            "}\n",
            "\n"
          ]
        }
      ]
    },
    {
      "cell_type": "markdown",
      "source": [
        "#Keyword in text"
      ],
      "metadata": {
        "id": "fB_GVrgNVTgE"
      }
    },
    {
      "cell_type": "code",
      "source": [
        "def Convert(list):\n",
        "    res_dct = {list[i]: 0 for i in range(0, len(list))}\n",
        "    return res_dct"
      ],
      "metadata": {
        "id": "PZiZuS_RVWSQ"
      },
      "execution_count": null,
      "outputs": []
    },
    {
      "cell_type": "markdown",
      "source": [
        "#Keyword Print"
      ],
      "metadata": {
        "id": "317vQNnGaap-"
      }
    },
    {
      "cell_type": "code",
      "source": [
        "keyword = ['include','main','int','case','char','const','countinue','deafult','break','else','extern','float','for','goto','if','long','register','return','short','signed','sizeof','static','switch','typedef','union','unsigned','void','volatile','while']\n",
        "keyword = Convert(keyword) \n",
        "print(keyword)"
      ],
      "metadata": {
        "colab": {
          "base_uri": "https://localhost:8080/"
        },
        "id": "qwB3JtotacnI",
        "outputId": "2c30d45f-dfbe-43ce-d0fc-ebc75be97533"
      },
      "execution_count": null,
      "outputs": [
        {
          "output_type": "stream",
          "name": "stdout",
          "text": [
            "{'include': 0, 'main': 0, 'int': 0, 'case': 0, 'char': 0, 'const': 0, 'countinue': 0, 'deafult': 0, 'break': 0, 'else': 0, 'extern': 0, 'float': 0, 'for': 0, 'goto': 0, 'if': 0, 'long': 0, 'register': 0, 'return': 0, 'short': 0, 'signed': 0, 'sizeof': 0, 'static': 0, 'switch': 0, 'typedef': 0, 'union': 0, 'unsigned': 0, 'void': 0, 'volatile': 0, 'while': 0}\n"
          ]
        }
      ]
    },
    {
      "cell_type": "markdown",
      "source": [
        "#Text Read"
      ],
      "metadata": {
        "id": "HqbCHRewaz1k"
      }
    },
    {
      "cell_type": "code",
      "source": [
        "file = open('/content/drive/MyDrive/text file/newoutput.c','r+')\n",
        "contents = file.read()"
      ],
      "metadata": {
        "id": "Vn7ytYNUa4OD"
      },
      "execution_count": null,
      "outputs": []
    },
    {
      "cell_type": "code",
      "source": [
        "Code = contents.split() \n",
        "length = len(Code)     \n",
        "print(length)"
      ],
      "metadata": {
        "colab": {
          "base_uri": "https://localhost:8080/"
        },
        "id": "2515UKctbor7",
        "outputId": "0949e301-83f7-419f-fe89-c7ecdf362c2c"
      },
      "execution_count": null,
      "outputs": [
        {
          "output_type": "stream",
          "name": "stdout",
          "text": [
            "15\n"
          ]
        }
      ]
    },
    {
      "cell_type": "markdown",
      "source": [
        "#Print Code"
      ],
      "metadata": {
        "id": "TwHphMQqcGd6"
      }
    },
    {
      "cell_type": "code",
      "source": [
        "print(Code)"
      ],
      "metadata": {
        "colab": {
          "base_uri": "https://localhost:8080/"
        },
        "id": "d9eQ1nLUcInd",
        "outputId": "8af6ae7f-106b-471c-a433-4e2371c596dd"
      },
      "execution_count": null,
      "outputs": [
        {
          "output_type": "stream",
          "name": "stdout",
          "text": [
            "['#include<stdio.h>', 'main(){', 'int', 'a=10,b=10,', 'c;', 'c=', 'a+b;', 'printf(\"the', 'sum', 'is:', '%d\",', 'c);', 'return', '0;', '}']\n"
          ]
        }
      ]
    },
    {
      "cell_type": "markdown",
      "source": [
        "#Total Keyword in Code"
      ],
      "metadata": {
        "id": "eLXhWyTdcS2s"
      }
    },
    {
      "cell_type": "code",
      "source": [
        "total = 0\n",
        "print('Output keywords')\n",
        "for i in range(0,length):\n",
        "  if Code[i] in keyword:\n",
        "      keyword[Code[i]] += 1\n",
        "      total += 1\n",
        "\n",
        "for j, k in keyword.items():\n",
        "  if k>0:\n",
        "       \n",
        "        print(j, ' :  ',k)\n",
        "print(\"Total Keyword:\", total)"
      ],
      "metadata": {
        "colab": {
          "base_uri": "https://localhost:8080/"
        },
        "id": "Z5m81fwrk7Qr",
        "outputId": "9ca4ffed-3cfe-4318-e5d1-27bbc574b149"
      },
      "execution_count": null,
      "outputs": [
        {
          "output_type": "stream",
          "name": "stdout",
          "text": [
            "Output keywords\n",
            "int  :   5\n",
            "return  :   5\n",
            "Total Keyword: 2\n"
          ]
        }
      ]
    }
  ]
}
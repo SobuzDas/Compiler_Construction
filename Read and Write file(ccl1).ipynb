{
  "nbformat": 4,
  "nbformat_minor": 0,
  "metadata": {
    "colab": {
      "provenance": [],
      "collapsed_sections": [],
      "authorship_tag": "ABX9TyNH7n6qq9qcAQYmR6sScp7g",
      "include_colab_link": true
    },
    "kernelspec": {
      "name": "python3",
      "display_name": "Python 3"
    },
    "language_info": {
      "name": "python"
    }
  },
  "cells": [
    {
      "cell_type": "markdown",
      "metadata": {
        "id": "view-in-github",
        "colab_type": "text"
      },
      "source": [
        "<a href=\"https://colab.research.google.com/github/SobuzDas/Compiler_Construction/blob/main/Read%20and%20Write%20file(ccl1).ipynb\" target=\"_parent\"><img src=\"https://colab.research.google.com/assets/colab-badge.svg\" alt=\"Open In Colab\"/></a>"
      ]
    },
    {
      "cell_type": "markdown",
      "source": [
        "#**Connecting with Drive**"
      ],
      "metadata": {
        "id": "0QnyXd9IvrPX"
      }
    },
    {
      "cell_type": "code",
      "execution_count": null,
      "metadata": {
        "colab": {
          "base_uri": "https://localhost:8080/"
        },
        "id": "72OfOLJ1MYBW",
        "outputId": "e8e5f42a-553f-4563-8b92-5ff551669c04"
      },
      "outputs": [
        {
          "output_type": "stream",
          "name": "stdout",
          "text": [
            "Mounted at /content/drive\n"
          ]
        }
      ],
      "source": [
        "from google.colab import drive\n",
        "drive.mount('/content/drive')"
      ]
    },
    {
      "cell_type": "markdown",
      "source": [
        "# **Read the File**"
      ],
      "metadata": {
        "id": "IUD1-e5jv4BC"
      }
    },
    {
      "cell_type": "code",
      "source": [
        "f = open('/content/drive/MyDrive/text file/ccll.c', 'r')\n",
        "print(f.read())"
      ],
      "metadata": {
        "colab": {
          "base_uri": "https://localhost:8080/"
        },
        "id": "-tov8sMJMm_S",
        "outputId": "abedf778-1c85-4f75-ee63-c0787323f680"
      },
      "execution_count": null,
      "outputs": [
        {
          "output_type": "stream",
          "name": "stdout",
          "text": [
            "#include<stdio.h>\n",
            "int main(){\n",
            "\n",
            "\tprintf(\"Hello world\");\n",
            "\n",
            "return 0;\n",
            "\n",
            "}\n",
            "\n"
          ]
        }
      ]
    },
    {
      "cell_type": "markdown",
      "source": [
        "#Reading The writing file"
      ],
      "metadata": {
        "id": "E4n-T50qwA26"
      }
    },
    {
      "cell_type": "code",
      "source": [
        "with open('/content/drive/MyDrive/text file/ccll.c', 'r') as code:\n",
        " with open('/content/drive/MyDrive/text file/textfile.txt', 'w') as text:\n",
        "      for line in code:\n",
        "       text.write(line)"
      ],
      "metadata": {
        "id": "GBvs-CT8Mws_"
      },
      "execution_count": null,
      "outputs": []
    }
  ]
}
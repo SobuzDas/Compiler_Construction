{
  "nbformat": 4,
  "nbformat_minor": 0,
  "metadata": {
    "colab": {
      "provenance": [],
      "collapsed_sections": [],
      "authorship_tag": "ABX9TyOx7iNepXEg2iiYBFymK4BU",
      "include_colab_link": true
    },
    "kernelspec": {
      "name": "python3",
      "display_name": "Python 3"
    },
    "language_info": {
      "name": "python"
    }
  },
  "cells": [
    {
      "cell_type": "markdown",
      "metadata": {
        "id": "view-in-github",
        "colab_type": "text"
      },
      "source": [
        "<a href=\"https://colab.research.google.com/github/SobuzDas/Compiler_Construction/blob/main/Left_Recursion.ipynb\" target=\"_parent\"><img src=\"https://colab.research.google.com/assets/colab-badge.svg\" alt=\"Open In Colab\"/></a>"
      ]
    },
    {
      "cell_type": "code",
      "execution_count": null,
      "metadata": {
        "colab": {
          "base_uri": "https://localhost:8080/"
        },
        "id": "y8pOUiPSo9-n",
        "outputId": "58db891b-3e2f-4475-c85a-eeee987ffcc0"
      },
      "outputs": [
        {
          "output_type": "stream",
          "name": "stdout",
          "text": [
            "Enter grammer: E->E+T|E-T|T\n",
            "1st product: E -> TE'\n",
            "2nd product: E' -> +T|E-TE|eps\n"
          ]
        }
      ],
      "source": [
        "grammer= input(\"Enter grammer: \")\n",
        "k = leftrec= 0\n",
        "sts = alpha = beta = out1 = out2 = \"\"\n",
        "sts += grammer[0]\n",
        "\n",
        "for i in range(0, len(grammer)):\n",
        "  if grammer[i] == '|':\n",
        "    k = i\n",
        "\n",
        "if grammer[3] == grammer[0]:\n",
        "   c =0\n",
        "   for i in range(4,k):\n",
        "      alpha += grammer[i]\n",
        "   for i in range(k+1, len(grammer)):\n",
        "      beta += grammer[i]\n",
        "\n",
        "   out1 += sts +\" -> \" + beta + sts + \"'\"\n",
        "   out2 += sts +\"' -> \" + alpha + sts + \"|eps\"\n",
        "\n",
        "   print(\"1st product: \"+out1)\n",
        "   print(\"2nd product: \"+out2)\n",
        "\n",
        "else:\n",
        "  print(\"Grammer is not recursive\")"
      ]
    }
  ]
}
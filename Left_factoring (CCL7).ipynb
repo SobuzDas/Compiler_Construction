{
  "nbformat": 4,
  "nbformat_minor": 0,
  "metadata": {
    "colab": {
      "provenance": [],
      "collapsed_sections": [],
      "include_colab_link": true
    },
    "kernelspec": {
      "name": "python3",
      "display_name": "Python 3"
    },
    "language_info": {
      "name": "python"
    }
  },
  "cells": [
    {
      "cell_type": "markdown",
      "metadata": {
        "id": "view-in-github",
        "colab_type": "text"
      },
      "source": [
        "<a href=\"https://colab.research.google.com/github/SobuzDas/Compiler_Construction/blob/main/Left_factoring%20(CCL7).ipynb\" target=\"_parent\"><img src=\"https://colab.research.google.com/assets/colab-badge.svg\" alt=\"Open In Colab\"/></a>"
      ]
    },
    {
      "cell_type": "markdown",
      "source": [
        "# **Left factoring**"
      ],
      "metadata": {
        "id": "KzU0WRvQtln3"
      }
    },
    {
      "cell_type": "code",
      "execution_count": 1,
      "metadata": {
        "colab": {
          "base_uri": "https://localhost:8080/"
        },
        "id": "uu-7grN3avvI",
        "outputId": "042a1999-870a-4f93-8daa-0283f493c63f"
      },
      "outputs": [
        {
          "name": "stdout",
          "output_type": "stream",
          "text": [
            "Enter the production: a->bcdr|bcd\n",
            "a->bcdR\n",
            "R->$r|\n",
            "do you have another production?\n",
            "y/n:n\n"
          ]
        }
      ],
      "source": [
        "def leftFactoring(s):\n",
        " k=[]\n",
        " l=[]\n",
        " n=\"\"\n",
        " k=s.split('->')\n",
        " l=k[1].split('|')\n",
        " for i in range(0,len(l)-1):\n",
        "    for j in range(0,min(len(l[i]),len(l[i+1]))):\n",
        "        if(l[i][j]==l[i+1][j]):\n",
        "            if l[i][j] not in n:\n",
        "                n=n+l[i][j]\n",
        " print(k[0]+'->'+n+\"R\")\n",
        " m=k[1].split(n)\n",
        " print(\"R->\",end=\"$\")\n",
        "\n",
        " for i in range(1,len(m)):\n",
        "    print(m[i],end=\"\")\n",
        "    \n",
        "s=input(\"Enter the production: \")\n",
        "\n",
        "\n",
        "while(True):\n",
        "    leftFactoring(s)\n",
        "    print(\"\\ndo you have another production?\")\n",
        "    T=input(\"y/n:\")\n",
        "    if T=='y':\n",
        "        s=input(\"Enter the production: \")\n",
        "    elif T=='n':\n",
        "        break\n",
        "        "
      ]
    }
  ]
}